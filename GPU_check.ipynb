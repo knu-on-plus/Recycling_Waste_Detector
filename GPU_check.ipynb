{
 "cells": [
  {
   "cell_type": "code",
   "execution_count": 57,
   "id": "a31b28c3-6d8c-4ae3-80f3-d1678d9ec536",
   "metadata": {},
   "outputs": [],
   "source": [
    "import os\n",
    "import torch"
   ]
  },
  {
   "cell_type": "code",
   "execution_count": 58,
   "id": "ca20b34e-f917-4d51-9767-7f548f42c126",
   "metadata": {},
   "outputs": [],
   "source": [
    "os.environ[\"CUDA_DEVICE_ORDER\"]=\"PCI_BUS_ID\"\n",
    "os.environ[\"CUDA_VISIBLE_DEVICES\"]= \"2,3\"  # Set the GPU 2,3 to use"
   ]
  },
  {
   "cell_type": "code",
   "execution_count": 59,
   "id": "ab6a2e80-bb0d-497a-8e69-209d8e5339f6",
   "metadata": {},
   "outputs": [
    {
     "name": "stdout",
     "output_type": "stream",
     "text": [
      "Device: cuda\n",
      "Current cuda device: 0\n",
      "Count of using GPUs: 1\n"
     ]
    }
   ],
   "source": [
    "device = torch.device(\"cuda\" if torch.cuda.is_available() else \"cpu\")\n",
    "\n",
    "print('Device:', device)\n",
    "print('Current cuda device:', torch.cuda.current_device()) # current cuda device의 index\n",
    "print('Count of using GPUs:', torch.cuda.device_count()) # current number of using GPUs"
   ]
  },
  {
   "cell_type": "code",
   "execution_count": 60,
   "id": "c3b441de-9e9c-45b1-b3b2-2ddf1405e850",
   "metadata": {},
   "outputs": [
    {
     "name": "stdout",
     "output_type": "stream",
     "text": [
      "Fri Nov  3 02:00:44 2023       \n",
      "+-----------------------------------------------------------------------------+\n",
      "| NVIDIA-SMI 525.105.17   Driver Version: 525.105.17   CUDA Version: 12.0     |\n",
      "|-------------------------------+----------------------+----------------------+\n",
      "| GPU  Name        Persistence-M| Bus-Id        Disp.A | Volatile Uncorr. ECC |\n",
      "| Fan  Temp  Perf  Pwr:Usage/Cap|         Memory-Usage | GPU-Util  Compute M. |\n",
      "|                               |                      |               MIG M. |\n",
      "|===============================+======================+======================|\n",
      "|   0  NVIDIA RTX A6000    On   | 00000000:1D:00.0 Off |                  Off |\n",
      "| 30%   29C    P8    17W / 300W |      1MiB / 49140MiB |      0%      Default |\n",
      "|                               |                      |                  N/A |\n",
      "+-------------------------------+----------------------+----------------------+\n",
      "|   1  NVIDIA RTX A6000    On   | 00000000:1F:00.0 Off |                  Off |\n",
      "| 30%   30C    P8    24W / 300W |      1MiB / 49140MiB |      0%      Default |\n",
      "|                               |                      |                  N/A |\n",
      "+-------------------------------+----------------------+----------------------+\n",
      "|   2  NVIDIA RTX A6000    On   | 00000000:20:00.0 Off |                  Off |\n",
      "| 30%   29C    P8    16W / 300W |      3MiB / 49140MiB |      0%      Default |\n",
      "|                               |                      |                  N/A |\n",
      "+-------------------------------+----------------------+----------------------+\n",
      "|   3  NVIDIA RTX A6000    On   | 00000000:21:00.0 Off |                  Off |\n",
      "| 30%   29C    P8    23W / 300W |      1MiB / 49140MiB |      0%      Default |\n",
      "|                               |                      |                  N/A |\n",
      "+-------------------------------+----------------------+----------------------+\n",
      "                                                                               \n",
      "+-----------------------------------------------------------------------------+\n",
      "| Processes:                                                                  |\n",
      "|  GPU   GI   CI        PID   Type   Process name                  GPU Memory |\n",
      "|        ID   ID                                                   Usage      |\n",
      "|=============================================================================|\n",
      "|  No running processes found                                                 |\n",
      "+-----------------------------------------------------------------------------+\n"
     ]
    }
   ],
   "source": [
    "!nvidia-smi"
   ]
  },
  {
   "cell_type": "markdown",
   "id": "0be20ea9-2d4a-4f6f-9450-e26b2cd06334",
   "metadata": {},
   "source": [
    "# CPU cores"
   ]
  },
  {
   "cell_type": "code",
   "execution_count": 61,
   "id": "eb1fef3c-ca9b-4053-8e82-0c796d1f0e03",
   "metadata": {},
   "outputs": [
    {
     "name": "stdout",
     "output_type": "stream",
     "text": [
      "88\n"
     ]
    }
   ],
   "source": [
    "!grep -i processor /proc/cpuinfo | wc -l"
   ]
  },
  {
   "cell_type": "code",
   "execution_count": 62,
   "id": "e16769d3-49be-46c9-b559-c99d76e84a62",
   "metadata": {},
   "outputs": [
    {
     "name": "stdout",
     "output_type": "stream",
     "text": [
      "2\n"
     ]
    }
   ],
   "source": [
    "!nproc # the number of CPU cores"
   ]
  },
  {
   "cell_type": "code",
   "execution_count": 47,
   "id": "781da35c-d399-4006-a52b-20023d9862d2",
   "metadata": {},
   "outputs": [
    {
     "name": "stdout",
     "output_type": "stream",
     "text": [
      "Architecture:                    x86_64\n",
      "CPU op-mode(s):                  32-bit, 64-bit\n",
      "Byte Order:                      Little Endian\n",
      "Address sizes:                   46 bits physical, 48 bits virtual\n",
      "CPU(s):                          88\n",
      "On-line CPU(s) list:             0-87\n",
      "Thread(s) per core:              2\n",
      "Core(s) per socket:              22\n",
      "Socket(s):                       2\n",
      "NUMA node(s):                    2\n",
      "Vendor ID:                       GenuineIntel\n",
      "CPU family:                      6\n",
      "Model:                           85\n",
      "Model name:                      Intel(R) Xeon(R) Gold 6152 CPU @ 2.10GHz\n",
      "Stepping:                        4\n",
      "CPU MHz:                         3442.517\n",
      "CPU max MHz:                     3700.0000\n",
      "CPU min MHz:                     1000.0000\n",
      "BogoMIPS:                        4200.00\n",
      "Virtualization:                  VT-x\n",
      "L1d cache:                       1.4 MiB\n",
      "L1i cache:                       1.4 MiB\n",
      "L2 cache:                        44 MiB\n",
      "L3 cache:                        60.5 MiB\n",
      "NUMA node0 CPU(s):               0-21,44-65\n",
      "NUMA node1 CPU(s):               22-43,66-87\n",
      "Vulnerability Itlb multihit:     KVM: Mitigation: Split huge pages\n",
      "Vulnerability L1tf:              Mitigation; PTE Inversion; VMX conditional cach\n",
      "                                 e flushes, SMT vulnerable\n",
      "Vulnerability Mds:               Mitigation; Clear CPU buffers; SMT vulnerable\n",
      "Vulnerability Meltdown:          Mitigation; PTI\n",
      "Vulnerability Mmio stale data:   Mitigation; Clear CPU buffers; SMT vulnerable\n",
      "Vulnerability Retbleed:          Mitigation; IBRS\n",
      "Vulnerability Spec store bypass: Mitigation; Speculative Store Bypass disabled v\n",
      "                                 ia prctl and seccomp\n",
      "Vulnerability Spectre v1:        Mitigation; usercopy/swapgs barriers and __user\n",
      "                                  pointer sanitization\n",
      "Vulnerability Spectre v2:        Mitigation; IBRS, IBPB conditional, RSB filling\n",
      "                                 , PBRSB-eIBRS Not affected\n",
      "Vulnerability Srbds:             Not affected\n",
      "Vulnerability Tsx async abort:   Mitigation; Clear CPU buffers; SMT vulnerable\n",
      "Flags:                           fpu vme de pse tsc msr pae mce cx8 apic sep mtr\n",
      "                                 r pge mca cmov pat pse36 clflush dts acpi mmx f\n",
      "                                 xsr sse sse2 ss ht tm pbe syscall nx pdpe1gb rd\n",
      "                                 tscp lm constant_tsc art arch_perfmon pebs bts \n",
      "                                 rep_good nopl xtopology nonstop_tsc cpuid aperf\n",
      "                                 mperf pni pclmulqdq dtes64 monitor ds_cpl vmx s\n",
      "                                 mx est tm2 ssse3 sdbg fma cx16 xtpr pdcm pcid d\n",
      "                                 ca sse4_1 sse4_2 x2apic movbe popcnt tsc_deadli\n",
      "                                 ne_timer aes xsave avx f16c rdrand lahf_lm abm \n",
      "                                 3dnowprefetch cpuid_fault epb cat_l3 cdp_l3 inv\n",
      "                                 pcid_single pti intel_ppin ssbd mba ibrs ibpb s\n",
      "                                 tibp tpr_shadow vnmi flexpriority ept vpid ept_\n",
      "                                 ad fsgsbase tsc_adjust bmi1 hle avx2 smep bmi2 \n",
      "                                 erms invpcid rtm cqm mpx rdt_a avx512f avx512dq\n",
      "                                  rdseed adx smap clflushopt clwb intel_pt avx51\n",
      "                                 2cd avx512bw avx512vl xsaveopt xsavec xgetbv1 x\n",
      "                                 saves cqm_llc cqm_occup_llc cqm_mbm_total cqm_m\n",
      "                                 bm_local dtherm ida arat pln pts hwp hwp_act_wi\n",
      "                                 ndow hwp_epp hwp_pkg_req pku ospke md_clear flu\n",
      "                                 sh_l1d arch_capabilities\n"
     ]
    }
   ],
   "source": [
    "!lscpu"
   ]
  },
  {
   "cell_type": "code",
   "execution_count": 48,
   "id": "15b29bf4-30dc-44ab-b0d3-beb62aa939da",
   "metadata": {},
   "outputs": [],
   "source": [
    "# !cat /proc/cpuinfo"
   ]
  },
  {
   "cell_type": "code",
   "execution_count": 63,
   "id": "774064c3-9d3f-4270-afd0-7fcc68f2fb79",
   "metadata": {},
   "outputs": [
    {
     "name": "stdout",
     "output_type": "stream",
     "text": [
      "processor\t: 0\n",
      "processor\t: 1\n",
      "processor\t: 2\n",
      "processor\t: 3\n",
      "processor\t: 4\n",
      "processor\t: 5\n",
      "processor\t: 6\n",
      "processor\t: 7\n",
      "processor\t: 8\n",
      "processor\t: 9\n",
      "processor\t: 10\n",
      "processor\t: 11\n",
      "processor\t: 12\n",
      "processor\t: 13\n",
      "processor\t: 14\n",
      "processor\t: 15\n",
      "processor\t: 16\n",
      "processor\t: 17\n",
      "processor\t: 18\n",
      "processor\t: 19\n",
      "processor\t: 20\n",
      "processor\t: 21\n",
      "processor\t: 22\n",
      "processor\t: 23\n",
      "processor\t: 24\n",
      "processor\t: 25\n",
      "processor\t: 26\n",
      "processor\t: 27\n",
      "processor\t: 28\n",
      "processor\t: 29\n",
      "processor\t: 30\n",
      "processor\t: 31\n",
      "processor\t: 32\n",
      "processor\t: 33\n",
      "processor\t: 34\n",
      "processor\t: 35\n",
      "processor\t: 36\n",
      "processor\t: 37\n",
      "processor\t: 38\n",
      "processor\t: 39\n",
      "processor\t: 40\n",
      "processor\t: 41\n",
      "processor\t: 42\n",
      "processor\t: 43\n",
      "processor\t: 44\n",
      "processor\t: 45\n",
      "processor\t: 46\n",
      "processor\t: 47\n",
      "processor\t: 48\n",
      "processor\t: 49\n",
      "processor\t: 50\n",
      "processor\t: 51\n",
      "processor\t: 52\n",
      "processor\t: 53\n",
      "processor\t: 54\n",
      "processor\t: 55\n",
      "processor\t: 56\n",
      "processor\t: 57\n",
      "processor\t: 58\n",
      "processor\t: 59\n",
      "processor\t: 60\n",
      "processor\t: 61\n",
      "processor\t: 62\n",
      "processor\t: 63\n",
      "processor\t: 64\n",
      "processor\t: 65\n",
      "processor\t: 66\n",
      "processor\t: 67\n",
      "processor\t: 68\n",
      "processor\t: 69\n",
      "processor\t: 70\n",
      "processor\t: 71\n",
      "processor\t: 72\n",
      "processor\t: 73\n",
      "processor\t: 74\n",
      "processor\t: 75\n",
      "processor\t: 76\n",
      "processor\t: 77\n",
      "processor\t: 78\n",
      "processor\t: 79\n",
      "processor\t: 80\n",
      "processor\t: 81\n",
      "processor\t: 82\n",
      "processor\t: 83\n",
      "processor\t: 84\n",
      "processor\t: 85\n",
      "processor\t: 86\n",
      "processor\t: 87\n"
     ]
    }
   ],
   "source": [
    "!grep -i processor /proc/cpuinfo"
   ]
  }
 ],
 "metadata": {
  "kernelspec": {
   "display_name": "Python 3 (ipykernel)",
   "language": "python",
   "name": "python3"
  },
  "language_info": {
   "codemirror_mode": {
    "name": "ipython",
    "version": 3
   },
   "file_extension": ".py",
   "mimetype": "text/x-python",
   "name": "python",
   "nbconvert_exporter": "python",
   "pygments_lexer": "ipython3",
   "version": "3.9.18"
  }
 },
 "nbformat": 4,
 "nbformat_minor": 5
}
