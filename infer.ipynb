{
 "cells": [
  {
   "cell_type": "code",
   "execution_count": null,
   "metadata": {},
   "outputs": [],
   "source": [
    "from ultralytics import YOLO\n",
    "import cv2\n",
    "import matplotlib.pyplot as plt\n",
    "from PIL import Image, ImageDraw\n",
    "\n",
    "# Load the original image\n",
    "original_image_path = \"orig.jpeg\"\n",
    "original_image = Image.open(original_image_path)\n",
    "\n",
    "\n",
    "# Display the image with bounding boxes and class names\n",
    "plt.figure(figsize=(10, 10))\n",
    "plt.imshow(original_image)\n",
    "plt.title('Predicted Image with Bounding Boxes and Class Names')\n",
    "plt.axis('off')\n",
    "plt.show()"
   ]
  },
  {
   "cell_type": "code",
   "execution_count": null,
   "metadata": {},
   "outputs": [],
   "source": [
    "from ultralytics import YOLO\n",
    "\n",
    "model = YOLO('runs/detect/train28/weights/best.pt')\n",
    "model.predict('orig.jpeg', save=True, imgsz=320, conf=0.5)"
   ]
  },
  {
   "cell_type": "code",
   "execution_count": null,
   "metadata": {},
   "outputs": [],
   "source": [
    "# Load the original image\n",
    "original_image_path = 'runs/detect/predict8/orig.jpeg'\n",
    "original_image = Image.open(original_image_path)\n",
    "\n",
    "\n",
    "plt.figure(figsize=(10, 10))\n",
    "plt.imshow(original_image)\n",
    "plt.title('Predicted Image with Bounding Boxes and Class Names')\n",
    "plt.axis('off')\n",
    "plt.show()"
   ]
  }
 ],
 "metadata": {
  "kernelspec": {
   "display_name": "yolov8",
   "language": "python",
   "name": "python3"
  },
  "language_info": {
   "codemirror_mode": {
    "name": "ipython",
    "version": 3
   },
   "file_extension": ".py",
   "mimetype": "text/x-python",
   "name": "python",
   "nbconvert_exporter": "python",
   "pygments_lexer": "ipython3",
   "version": "3.9.18"
  }
 },
 "nbformat": 4,
 "nbformat_minor": 2
}
